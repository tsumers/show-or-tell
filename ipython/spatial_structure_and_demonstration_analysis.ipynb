{
 "cells": [
  {
   "cell_type": "code",
   "execution_count": 1,
   "metadata": {},
   "outputs": [],
   "source": [
    "import csv\n",
    "import sys\n",
    "import copy\n",
    "\n",
    "import numpy as np\n",
    "import json\n",
    "import random\n",
    "import itertools\n",
    "\n",
    "import pprint\n",
    "pp = pprint.PrettyPrinter(indent=2)\n",
    "\n",
    "import nltk\n",
    "\n",
    "import pandas as pd\n",
    "import matplotlib.pylab as plt\n",
    "from matplotlib.colors import LinearSegmentedColormap\n",
    "\n",
    "import seaborn as sns"
   ]
  },
  {
   "cell_type": "markdown",
   "metadata": {},
   "source": [
    "# Response Data Analysis"
   ]
  },
  {
   "cell_type": "code",
   "execution_count": 2,
   "metadata": {},
   "outputs": [],
   "source": [
    "teacher_joined_survey = pd.read_csv(\"data/response_exp_anonymized.csv\")"
   ]
  },
  {
   "cell_type": "code",
   "execution_count": 3,
   "metadata": {},
   "outputs": [],
   "source": [
    "teacher_joined_survey['game'] = teacher_joined_survey.game.apply(lambda x: json.loads(x))"
   ]
  },
  {
   "cell_type": "code",
   "execution_count": 4,
   "metadata": {},
   "outputs": [
    {
     "data": {
      "text/plain": [
       "comm_viz      concept_number\n",
       "chat|full     2                 0.716667\n",
       "chat|partial  2                 0.345588\n",
       "Name: learner_concept, dtype: float64"
      ]
     },
     "execution_count": 4,
     "metadata": {},
     "output_type": "execute_result"
    }
   ],
   "source": [
    "final_level = teacher_joined_survey[teacher_joined_survey.level_number == 10]\n",
    "final_level.groupby([\"comm_viz\", \"concept_number\"]).learner_concept.mean()"
   ]
  },
  {
   "cell_type": "markdown",
   "metadata": {},
   "source": [
    "## Plot new configuration\n"
   ]
  },
  {
   "cell_type": "code",
   "execution_count": 5,
   "metadata": {},
   "outputs": [],
   "source": [
    "def get_viz_string(object_dict, class_features):\n",
    "    \n",
    "    pos_features = set(class_features[1])\n",
    "    neg_features = set(class_features[-1])\n",
    "    \n",
    "    return class_features[object_dict[\"value\"]][object_dict[\"mask_value\"]]\n",
    "\n",
    "def update_object_with_mask(object_dict, class_features):\n",
    "    \n",
    "    string = get_viz_string(object_dict, class_features)\n",
    "    \n",
    "    color = 'm' if string[0] == '1' else 'c'\n",
    "    shape = '^' if string[1] == '1' else 's'\n",
    "    hollow = True if string[2] == '1' else False\n",
    "    \n",
    "    object_dict.update({\"color\": color, \"shape\": shape, \"hollow\": hollow})\n",
    "    \n",
    "    return object_dict\n",
    "\n",
    "\n",
    "def plot_boolean_colors(original_object_list, class_features,\n",
    "                        plot_x=5, plot_y=5, title=\"\", label_values=False, ax=None):    \n",
    "\n",
    "    if ax is None:\n",
    "        ax = plt.figure(figsize=(plot_x, plot_y)).gca()\n",
    "    \n",
    "    object_list = copy.deepcopy(original_object_list)\n",
    "    object_list = [update_object_with_mask(o, class_features) for o in object_list]\n",
    "    objects_df = pd.DataFrame(object_list)\n",
    "    \n",
    "    ax.set_facecolor('w')\n",
    "        \n",
    "    for s, df in objects_df[objects_df.hollow == False].groupby(\"shape\"):\n",
    "        ax.scatter(df.x, df.y, s=400, \n",
    "                    marker=s,\n",
    "                    color=df.color.values)\n",
    "    \n",
    "    for s, df in objects_df[objects_df.hollow == True].groupby(\"shape\"):\n",
    "        ax.scatter(df.x, df.y, s=400, marker=s,\n",
    "                   edgecolors=df.color.values,\n",
    "                   facecolors='none',\n",
    "                  linewidths=4)\n",
    "                \n",
    "    ax.set_xlim(0, 75)\n",
    "    ax.set_ylim(75,0)\n",
    "    ax.set_xticks([])\n",
    "    ax.set_yticks([])\n",
    "    \n",
    "    ax.set_title(title)\n",
    "    ax.axis(\"off\")"
   ]
  },
  {
   "cell_type": "code",
   "execution_count": 6,
   "metadata": {},
   "outputs": [
    {
     "data": {
      "image/png": "[encoded data removed]",
      "text/plain": [
       "<Figure size 360x360 with 1 Axes>"
      ]
     },
     "metadata": {},
     "output_type": "display_data"
    }
   ],
   "source": [
    "level_to_plot = 2\n",
    "\n",
    "CLASS_TWO_FEATURES = {\n",
    "    1: [ \"011\", \"100\", \"001\", \"110\"],\n",
    "    -1:[\"000\",  \"111\", \"010\",  \"101\"]}\n",
    "\n",
    "ALL_FEATURES = set(''.join(s) for s in itertools.product('01', repeat=3))\n",
    "\n",
    "to_plot = teacher_joined_survey[teacher_joined_survey.level_number == 2]\n",
    "\n",
    "plot_boolean_colors(to_plot.game.iloc[0][\"config\"]['frame_data']['objects'], class_features=CLASS_TWO_FEATURES)"
   ]
  },
  {
   "cell_type": "markdown",
   "metadata": {},
   "source": [
    "## Linguistic Teaching"
   ]
  },
  {
   "cell_type": "code",
   "execution_count": 7,
   "metadata": {},
   "outputs": [],
   "source": [
    "teacher_joined_survey.chat_text = teacher_joined_survey.chat_text.apply(str)\n",
    "\n",
    "for k, games in teacher_joined_survey.groupby(\"task_uuid\"):\n",
    "\n",
    "    continue\n",
    "    games = games.sort_values(by='level_number')\n",
    "    print(\"\\n{} visibility, {} complexity\\nCumulative Score: {}\".format(games.iloc[0][\"visibility\"], games.iloc[0][\"concept_number\"], games.iloc[-1][\"cum_player_score\"]))\n",
    "    print(\"{}\".format(k))\n",
    "    for gid, g in games.iterrows():\n",
    "        print(\"{} & ``{}''\\\\\\\\\".format(g.player_score, g.chat_text.replace(\"|\", \" \")))\n"
   ]
  },
  {
   "cell_type": "markdown",
   "metadata": {},
   "source": [
    "# Demonstration-Optimality Analysis"
   ]
  },
  {
   "cell_type": "code",
   "execution_count": 8,
   "metadata": {},
   "outputs": [],
   "source": [
    "demos_to_analyze = pd.read_csv(\"data/exp2_demonstrations.csv\")\n",
    "demos_to_analyze['game'] = demos_to_analyze.game.apply(lambda x: json.loads(x))"
   ]
  },
  {
   "cell_type": "code",
   "execution_count": 9,
   "metadata": {},
   "outputs": [],
   "source": [
    "def collected_positive_objects(game):\n",
    "    \n",
    "    object_list = [e[\"data\"][\"object\"] for e in game[\"game_events\"]]\n",
    "    if not object_list:\n",
    "        return 0\n",
    "    \n",
    "    df = pd.DataFrame.from_records(object_list)\n",
    "    negative_objects = df[df[\"value\"] != 1]\n",
    "\n",
    "    # If we collected *any* negative objects, return -1\n",
    "    if len(negative_objects) > 0:\n",
    "        return -1\n",
    "\n",
    "    # If we didn't collect any negatives, return the number of collected objects\n",
    "    return len(df)\n",
    "\n",
    "def variety_positive_objects(game):\n",
    "    \n",
    "    object_list = [e[\"data\"][\"object\"] for e in game[\"game_events\"]]\n",
    "    if not object_list:\n",
    "        return 0\n",
    "    \n",
    "    df = pd.DataFrame.from_records(object_list)\n",
    "    negative_objects = df[df[\"value\"] != 1]\n",
    "\n",
    "    # If we collected *any* negative objects, return -1\n",
    "    if len(negative_objects) > 0:\n",
    "        return -1\n",
    "    \n",
    "    return df.mask_value.nunique()"
   ]
  },
  {
   "cell_type": "code",
   "execution_count": 10,
   "metadata": {},
   "outputs": [],
   "source": [
    "def max_possible_features(game):\n",
    "    \n",
    "    object_list = game[\"config\"][\"frame_data\"][\"objects\"]\n",
    "    \n",
    "    df = pd.DataFrame.from_records(object_list)\n",
    "    positive_objects = df[df[\"value\"] == 1]\n",
    "    n_features = positive_objects.groupby(\"cluster_id\").mask_value.nunique().max()\n",
    "    return n_features\n",
    "\n",
    "def max_possible_score(game):\n",
    "    \n",
    "    object_list = game[\"config\"][\"frame_data\"][\"objects\"]\n",
    "    \n",
    "    df = pd.DataFrame.from_records(object_list)\n",
    "    positive_objects = df[df[\"value\"] == 1]\n",
    "    max_score = positive_objects.groupby(\"cluster_id\").size().max()\n",
    "    return max_score"
   ]
  },
  {
   "cell_type": "code",
   "execution_count": 11,
   "metadata": {},
   "outputs": [],
   "source": [
    "demos_to_analyze[\"max_score\"] = demos_to_analyze.game.apply(lambda x: max_possible_score(x))\n",
    "demos_to_analyze[\"max_features\"] = demos_to_analyze.game.apply(lambda x: max_possible_features(x))\n",
    "\n",
    "demos_to_analyze[\"teacher_score\"] = demos_to_analyze.game.apply(lambda x: collected_positive_objects(x))\n",
    "demos_to_analyze[\"teacher_features\"] = demos_to_analyze.game.apply(lambda x: variety_positive_objects(x))"
   ]
  },
  {
   "cell_type": "code",
   "execution_count": 12,
   "metadata": {},
   "outputs": [],
   "source": [
    "demos_to_analyze[\"optimal_features\"] = demos_to_analyze.teacher_features >= demos_to_analyze.max_features\n",
    "demos_to_analyze[\"optimal_score\"] = demos_to_analyze.teacher_score >= demos_to_analyze.max_score\n",
    "demos_to_analyze[\"optimal_both\"] = demos_to_analyze.optimal_features & demos_to_analyze.optimal_score"
   ]
  },
  {
   "cell_type": "code",
   "execution_count": 13,
   "metadata": {},
   "outputs": [],
   "source": [
    "score_maximizing_not_feature_maximizing = demos_to_analyze[(demos_to_analyze.optimal_score & ~demos_to_analyze.optimal_features)]\n",
    "feature_maximizing_not_score_maximizing = demos_to_analyze[(~demos_to_analyze.optimal_score & demos_to_analyze.optimal_features)]"
   ]
  },
  {
   "cell_type": "code",
   "execution_count": 14,
   "metadata": {},
   "outputs": [
    {
     "name": "stdout",
     "output_type": "stream",
     "text": [
      "Total demonstration trajectories: 1430\n",
      "\n",
      "Score-maximizing: 1078\n",
      "Feature-maximizing: 1200\n",
      "\n",
      "Score but _not_ feature-maximizing: 0\n",
      "Feature but _not_ score-maximizing: 122\n",
      "\n",
      "75% maximize score.\n",
      "83% maximize features.\n"
     ]
    }
   ],
   "source": [
    "total = len(demos_to_analyze)\n",
    "print(f'Total demonstration trajectories: {total}')\n",
    "\n",
    "n_score_maximizing = len(demos_to_analyze[demos_to_analyze.optimal_score])\n",
    "print(f'\\nScore-maximizing: {n_score_maximizing}')\n",
    "\n",
    "n_feature_maximizing = len(demos_to_analyze[demos_to_analyze.optimal_features])\n",
    "print(f'Feature-maximizing: {n_feature_maximizing}')\n",
    "\n",
    "print(f'\\nScore but _not_ feature-maximizing: {len(score_maximizing_not_feature_maximizing)}')\n",
    "print(f'Feature but _not_ score-maximizing: {len(feature_maximizing_not_score_maximizing)}')\n",
    "\n",
    "print(f'\\n{int(100*n_score_maximizing/total)}% maximize score.\\n{int(100*n_feature_maximizing/total)}% maximize features.')"
   ]
  },
  {
   "cell_type": "code",
   "execution_count": 15,
   "metadata": {},
   "outputs": [],
   "source": [
    "pct_optimal = (demos_to_analyze.groupby('task_uuid')[['optimal_score', 'optimal_features']].sum() / 10)\n",
    "\n",
    "all_experiment_two_data = pd.read_csv(\"data/exp2_anonymized.csv\")\n",
    "\n",
    "joined_with_demo_data = all_experiment_two_data.set_index('teacher_uuid').join(pct_optimal).reset_index().rename({\"index\": \"teacher_uuid\"}, axis=1)"
   ]
  },
  {
   "cell_type": "code",
   "execution_count": 16,
   "metadata": {},
   "outputs": [
    {
     "name": "stderr",
     "output_type": "stream",
     "text": [
      "/var/folders/gv/42lb0z1j4dxf3wsk74nrxwx80000gn/T/ipykernel_60365/1045691239.py:3: SettingWithCopyWarning: \n",
      "A value is trying to be set on a copy of a slice from a DataFrame.\n",
      "Try using .loc[row_indexer,col_indexer] = value instead\n",
      "\n",
      "See the caveats in the documentation: https://pandas.pydata.org/pandas-docs/stable/user_guide/indexing.html#returning-a-view-versus-a-copy\n",
      "  demo_only.difficulty_teacher = 6 - demo_only.difficulty_teacher\n"
     ]
    }
   ],
   "source": [
    "demo_only = joined_with_demo_data[joined_with_demo_data.communication == 'demo']\n",
    "\n",
    "demo_only.difficulty_teacher = 6 - demo_only.difficulty_teacher"
   ]
  },
  {
   "cell_type": "code",
   "execution_count": 17,
   "metadata": {},
   "outputs": [],
   "source": [
    "demo_only[[\"teacher_uuid\", 'optimal_score', 'optimal_features', 'difficulty_teacher']].to_csv('data/demonstration_optimality_and_difficulty.csv')"
   ]
  },
  {
   "cell_type": "code",
   "execution_count": 18,
   "metadata": {},
   "outputs": [
    {
     "name": "stderr",
     "output_type": "stream",
     "text": [
      "/var/folders/gv/42lb0z1j4dxf3wsk74nrxwx80000gn/T/ipykernel_60365/3282461710.py:1: FutureWarning: Indexing with multiple keys (implicitly converted to a tuple of keys) will be deprecated, use a list instead.\n",
      "  demo_by_teacher = demos_to_analyze.groupby([\"task_uuid\", 'visibility', 'boolean_complexity'])['optimal_features', 'optimal_score'].sum()\n"
     ]
    }
   ],
   "source": [
    "demo_by_teacher = demos_to_analyze.groupby([\"task_uuid\", 'visibility', 'boolean_complexity'])['optimal_features', 'optimal_score'].sum()\n",
    "demo_by_teacher.to_csv('data/demonstration_optimality_by_condition.csv')"
   ]
  },
  {
   "cell_type": "code",
   "execution_count": null,
   "metadata": {},
   "outputs": [],
   "source": []
  }
 ],
 "metadata": {
  "kernelspec": {
   "display_name": "Python 3 (ipykernel)",
   "language": "python",
   "name": "python3"
  },
  "language_info": {
   "codemirror_mode": {
    "name": "ipython",
    "version": 3
   },
   "file_extension": ".py",
   "mimetype": "text/x-python",
   "name": "python",
   "nbconvert_exporter": "python",
   "pygments_lexer": "ipython3",
   "version": "3.9.12"
  }
 },
 "nbformat": 4,
 "nbformat_minor": 4
}
