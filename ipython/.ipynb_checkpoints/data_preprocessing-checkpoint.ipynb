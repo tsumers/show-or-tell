{
 "cells": [
  {
   "cell_type": "markdown",
   "metadata": {
    "tags": []
   },
   "source": [
    "# Data Pre-Processing\n",
    "\n",
    "This notebook: \n",
    "1. Loads raw data from PsiTurk\n",
    "2. Filters out participants who refreshed or did not complete the experiment\n",
    "3. Integrates end-of-experiment surveys with trial data\n",
    "4. Anonymizes all UUIDs  \n",
    "5. Exports clean data to CSVs for analysis (in R) or visualization (in Python)\n",
    "\n",
    "This notebook **used** to anonymize the experimental data. The **outputs** of this notebook are provided as part of the code and data release; this notebook is not itself intended to be run."
   ]
  },
  {
   "cell_type": "code",
   "execution_count": 1,
   "metadata": {},
   "outputs": [],
   "source": [
    "import csv\n",
    "import json\n",
    "import itertools\n",
    "\n",
    "import numpy as np\n",
    "import pandas as pd"
   ]
  },
  {
   "cell_type": "markdown",
   "metadata": {},
   "source": [
    "# Load Trial Data\n",
    "\n",
    "Here, we load the raw data directly from the Psiturk database."
   ]
  },
  {
   "cell_type": "code",
   "execution_count": 2,
   "metadata": {},
   "outputs": [],
   "source": [
    "TARGET_EXPERIMENT = \"exp1\" # exp1, exp2, response_exp\n",
    "\n",
    "PSITURK_GAME_RECORDS = \"data/raw_data/{}_trialdata.csv\".format(TARGET_EXPERIMENT, TARGET_EXPERIMENT)\n",
    "PSITURK_SURVEY_RECORDS = \"data/raw_data/{}_questiondata.csv\".format(TARGET_EXPERIMENT, TARGET_EXPERIMENT)"
   ]
  },
  {
   "cell_type": "code",
   "execution_count": 3,
   "metadata": {},
   "outputs": [
    {
     "name": "stdout",
     "output_type": "stream",
     "text": [
      "Retrieved 22900 PsiTurk records\n",
      "500 unique players.\n"
     ]
    }
   ],
   "source": [
    "psiturk_records = []\n",
    "\n",
    "with open(PSITURK_GAME_RECORDS) as csvfile:\n",
    "    data_reader = csv.reader(csvfile)\n",
    "    for row in data_reader:\n",
    "        record = {\"player_id\": row[0], \"ts\": row[2], \"data\": json.loads(row[3])}\n",
    "        psiturk_records.append(record)\n",
    "        \n",
    "psiturk_records = [r for r in psiturk_records if \"debug\" not in r[\"player_id\"]]\n",
    "print(\"Retrieved {} PsiTurk records\".format(len(psiturk_records)))\n",
    "\n",
    "players = [r[\"player_id\"] for r in psiturk_records]\n",
    "nunique_players = pd.Series(players).nunique()\n",
    "print(\"{} unique players.\".format(nunique_players))"
   ]
  },
  {
   "cell_type": "markdown",
   "metadata": {},
   "source": [
    "## Condition logs"
   ]
  },
  {
   "cell_type": "code",
   "execution_count": 4,
   "metadata": {},
   "outputs": [],
   "source": [
    "condition_messages = [r for r in psiturk_records if r.get('data').get('name') == \"pairing_configuration\"]"
   ]
  },
  {
   "cell_type": "code",
   "execution_count": 5,
   "metadata": {},
   "outputs": [],
   "source": [
    "all_condition_df = pd.DataFrame([{**d, **d[\"data\"], **d[\"data\"].get(\"condition\", {})} for d in condition_messages])\n",
    "all_condition_df = all_condition_df[[\"learner_uuid\", \"teacher_uuid\", \"concept_complexity\", \"communication\", \"visibility\", \"counterbalance\", \"teacher_condition_number\", \"pair_uuid\", \"player_id\"]]\n",
    "all_condition_df[\"comm_viz\"] = all_condition_df[\"communication\"] + \"|\" + all_condition_df[\"visibility\"]\n",
    "\n",
    "all_condition_df.rename(columns={\"concept_complexity\": \"concept_number\"}, inplace=True)"
   ]
  },
  {
   "cell_type": "code",
   "execution_count": 6,
   "metadata": {},
   "outputs": [
    {
     "name": "stdout",
     "output_type": "stream",
     "text": [
      "Total number of pairings: 242\n",
      "By condition:\n",
      "comm_viz   concept_number\n",
      "chat|full  1                 40\n",
      "           2                 40\n",
      "           3                 40\n",
      "demo|full  1                 40\n",
      "           2                 42\n",
      "           3                 40\n",
      "dtype: int64\n"
     ]
    }
   ],
   "source": [
    "print(\"Total number of pairings: {}\".format(len(all_condition_df)))\n",
    "\n",
    "print(\"By condition:\")\n",
    "print(all_condition_df.groupby([\"comm_viz\", \"concept_number\"]).size())"
   ]
  },
  {
   "cell_type": "markdown",
   "metadata": {},
   "source": [
    "# Filter out dropped or duplicate pairs \n",
    "Players who refreshed their browser and re-started the experiment."
   ]
  },
  {
   "cell_type": "code",
   "execution_count": 7,
   "metadata": {},
   "outputs": [
    {
     "name": "stdout",
     "output_type": "stream",
     "text": [
      "Total number of *paired* unique players: 475\n",
      "\tPlayers paired once: 468\n",
      "\tPlayers paired more than once: 7\n"
     ]
    },
    {
     "name": "stderr",
     "output_type": "stream",
     "text": [
      "/var/folders/gv/42lb0z1j4dxf3wsk74nrxwx80000gn/T/ipykernel_58696/3162688436.py:1: FutureWarning: The series.append method is deprecated and will be removed from pandas in a future version. Use pandas.concat instead.\n",
      "  all_uuids = all_condition_df.learner_uuid.append(all_condition_df.teacher_uuid)\n"
     ]
    }
   ],
   "source": [
    "all_uuids = all_condition_df.learner_uuid.append(all_condition_df.teacher_uuid)\n",
    "uuid_value_counts = all_uuids.value_counts()\n",
    "\n",
    "single_pairing_uuids = uuid_value_counts[uuid_value_counts.values == 1].index.values\n",
    "duplicate_pairing_uuids = uuid_value_counts[uuid_value_counts.values > 1].index.values\n",
    "\n",
    "print(\"Total number of *paired* unique players: {}\".format(all_uuids.nunique()))\n",
    "print(\"\\tPlayers paired once: {}\".format(len(single_pairing_uuids)))\n",
    "print(\"\\tPlayers paired more than once: {}\".format(len(duplicate_pairing_uuids)))"
   ]
  },
  {
   "cell_type": "code",
   "execution_count": 8,
   "metadata": {},
   "outputs": [
    {
     "name": "stdout",
     "output_type": "stream",
     "text": [
      "Total number of *unique* pairings, eg players who were only paired once: 227\n",
      "By condition:\n",
      "\n",
      "comm_viz   concept_number\n",
      "chat|full  1                 36\n",
      "           2                 39\n",
      "           3                 40\n",
      "demo|full  1                 38\n",
      "           2                 39\n",
      "           3                 35\n",
      "dtype: int64\n"
     ]
    }
   ],
   "source": [
    "all_condition_df[\"repeat_teacher\"] = all_condition_df.teacher_uuid.isin(duplicate_pairing_uuids)\n",
    "all_condition_df[\"repeat_learner\"] = all_condition_df.learner_uuid.isin(duplicate_pairing_uuids)\n",
    "\n",
    "unique_condition_df = all_condition_df[(~all_condition_df.repeat_teacher) & (~all_condition_df.repeat_learner)]\n",
    "\n",
    "print(\"Total number of *unique* pairings, eg players who were only paired once: {}\".format(len(unique_condition_df)))\n",
    "print(\"By condition:\\n\")\n",
    "print(unique_condition_df.groupby([\"comm_viz\", \"concept_number\"]).size())"
   ]
  },
  {
   "cell_type": "code",
   "execution_count": 9,
   "metadata": {},
   "outputs": [
    {
     "name": "stdout",
     "output_type": "stream",
     "text": [
      "Total number of *duplicate* pairings, e.g. containing at least one player who was paired twice: 15\n",
      "By condition:\n",
      "\n",
      "comm_viz   concept_number\n",
      "chat|full  1                 4\n",
      "           2                 1\n",
      "demo|full  1                 2\n",
      "           2                 3\n",
      "           3                 5\n",
      "dtype: int64\n"
     ]
    }
   ],
   "source": [
    "duplicated_condition_df = all_condition_df[(all_condition_df.repeat_teacher) | (all_condition_df.repeat_learner)]\n",
    "\n",
    "print(\"Total number of *duplicate* pairings, e.g. containing at least one player who was paired twice: {}\".format(len(duplicated_condition_df)))\n",
    "print(\"By condition:\\n\")\n",
    "print(duplicated_condition_df.groupby([\"comm_viz\", \"concept_number\"]).size())"
   ]
  },
  {
   "cell_type": "markdown",
   "metadata": {},
   "source": [
    "## Gameplay logs"
   ]
  },
  {
   "cell_type": "code",
   "execution_count": 10,
   "metadata": {},
   "outputs": [],
   "source": [
    "endgames = []\n",
    "uuids = []\n",
    "\n",
    "for g in psiturk_records:\n",
    "\n",
    "    if g[\"data\"].get(\"event\") == \"level_end\":\n",
    "        \n",
    "        endgame_record = g[\"data\"] \n",
    "        endgame_record[\"psiturk_log_uuid\"] = g[\"player_id\"]\n",
    "        endgame_record[\"ts\"] = g[\"ts\"]\n",
    "        endgames.append(endgame_record)"
   ]
  },
  {
   "cell_type": "markdown",
   "metadata": {},
   "source": [
    "Transform gameplay records into dataframe summaries"
   ]
  },
  {
   "cell_type": "code",
   "execution_count": 11,
   "metadata": {},
   "outputs": [],
   "source": [
    "def game_record_to_df(game_record):\n",
    "        \n",
    "    game_df_summary = {\n",
    "        \"task_uuid\": game_record[\"task_uuid\"],\n",
    "        \"level_number\": game_record[\"level\"],\n",
    "        \"level_max_score\": game_record[\"level_max_score\"],\n",
    "        \"player_score\": game_record[\"score\"],\n",
    "        \"game_mode\": game_record[\"mode\"],\n",
    "        \"psiturk_log_uuid\": game_record[\"psiturk_log_uuid\"],\n",
    "        \"pregame_pause_ms\": game_record.get(\"pregame_pause_ms\", None),\n",
    "        \"game_comm_condition\": game_record[\"value_mask_config\"].get(\"communication\", \"no_comm\"),\n",
    "        \"game_viz_condition\": game_record[\"value_mask_config\"].get(\"visibility\", \"no_viz\"),\n",
    "        \"ts\": game_record[\"ts\"],\n",
    "        \"pair_uuid\": game_record.get(\"task_configuration\", {}).get(\"pair_uuid\"),\n",
    "        \"game\": game_record    \n",
    "    }\n",
    "    \n",
    "    game_df_summary[\"game_comm_viz\"] = game_df_summary[\"game_comm_condition\"] + \"|\" + game_df_summary[\"game_viz_condition\"]\n",
    "    \n",
    "    return game_df_summary\n",
    "\n",
    "all_games = pd.DataFrame([game_record_to_df(record) for record in endgames])\n",
    "demonstrations = all_games[all_games.game_mode == 'demonstration']"
   ]
  },
  {
   "cell_type": "code",
   "execution_count": 12,
   "metadata": {},
   "outputs": [
    {
     "data": {
      "text/plain": [
       "comm_viz   concept_number\n",
       "chat|full  1                 369\n",
       "           2                 403\n",
       "           3                 430\n",
       "demo|full  1                 411\n",
       "           2                 422\n",
       "           3                 370\n",
       "dtype: int64"
      ]
     },
     "execution_count": 12,
     "metadata": {},
     "output_type": "execute_result"
    }
   ],
   "source": [
    "# Drop solo play (these are practice rounds)\n",
    "game_df = all_games[all_games.game_comm_viz != \"no_comm|no_viz\"]\n",
    "\n",
    "# Filter down to messages logged by the learner, meaning the task_uuid == the log-based UUID\n",
    "# This drops games logged by teacher\n",
    "game_df = game_df[game_df.task_uuid == game_df.psiturk_log_uuid]\n",
    "\n",
    "df = game_df.join(all_condition_df.set_index(\"pair_uuid\"), how=\"inner\", on=\"pair_uuid\")\n",
    "df.groupby([\"comm_viz\", \"concept_number\"]).size()"
   ]
  },
  {
   "cell_type": "markdown",
   "metadata": {},
   "source": [
    "## Dropout analysis"
   ]
  },
  {
   "cell_type": "code",
   "execution_count": 13,
   "metadata": {},
   "outputs": [],
   "source": [
    "dropout_records = []\n",
    "for k, g in df.groupby(\"task_uuid\"):\n",
    "    \n",
    "    dropout_records.append({\"condition\": g.iloc[0][\"comm_viz\"],\n",
    "                            \"concept\": g.iloc[0][\"concept_number\"],\n",
    "                           \"max_level_number\": g.level_number.max(),\n",
    "                            \"min_level_number\": g.level_number.min(),\n",
    "                            \"teacher_uuid\": g.iloc[0][\"teacher_uuid\"],\n",
    "                            \"learner_uuid\": g.iloc[0][\"task_uuid\"],\n",
    "                            \"start_ts\": g.ts.min(),\n",
    "                            \"end_ts\": g.ts.max(),\n",
    "                            \"dropped_out\": g.level_number.max() != 10,\n",
    "                           })\n",
    "    \n",
    "dropout_df = pd.DataFrame(dropout_records)\n",
    "dropout_df[\"repeat_teacher\"] = dropout_df.teacher_uuid.isin(duplicate_pairing_uuids)\n",
    "dropout_df[\"repeat_learner\"] = dropout_df.learner_uuid.isin(duplicate_pairing_uuids)"
   ]
  },
  {
   "cell_type": "code",
   "execution_count": 14,
   "metadata": {},
   "outputs": [
    {
     "name": "stdout",
     "output_type": "stream",
     "text": [
      "213 total pairs completed, 5 contained a repeat.\n"
     ]
    }
   ],
   "source": [
    "completed = dropout_df[dropout_df.max_level_number == 10]\n",
    "dropped_out = dropout_df[dropout_df.max_level_number != 10]\n",
    "completed_with_repeat = completed[(completed.repeat_teacher) | (completed.repeat_learner)]\n",
    "\n",
    "print(\"{} total pairs completed, {} contained a repeat.\".format(len(completed), len(completed_with_repeat)))"
   ]
  },
  {
   "cell_type": "code",
   "execution_count": 15,
   "metadata": {},
   "outputs": [
    {
     "name": "stdout",
     "output_type": "stream",
     "text": [
      "Of only-played-once: 223 total pairs, 208 completed.\n"
     ]
    }
   ],
   "source": [
    "unique_dropout_df = dropout_df[(~dropout_df.repeat_teacher) & (~dropout_df.repeat_learner)]\n",
    "\n",
    "unique_completed = unique_dropout_df[unique_dropout_df.max_level_number == 10]\n",
    "unique_dropped_out = unique_dropout_df[unique_dropout_df.max_level_number != 10]\n",
    "\n",
    "print(\"Of only-played-once: {} total pairs, {} completed.\".format(len(unique_dropout_df), len(unique_completed)))"
   ]
  },
  {
   "cell_type": "code",
   "execution_count": 16,
   "metadata": {},
   "outputs": [
    {
     "name": "stdout",
     "output_type": "stream",
     "text": [
      "\n",
      "('chat|full', 1)\n",
      "-------\n",
      "All: 29 completed / 6 dropped --> 17% drop\n",
      "\n",
      "('chat|full', 2)\n",
      "-------\n",
      "All: 35 completed / 3 dropped --> 7% drop\n",
      "\n",
      "('chat|full', 3)\n",
      "-------\n",
      "All: 39 completed / 1 dropped --> 2% drop\n",
      "\n",
      "('demo|full', 1)\n",
      "-------\n",
      "All: 36 completed / 1 dropped --> 2% drop\n",
      "\n",
      "('demo|full', 2)\n",
      "-------\n",
      "All: 37 completed / 1 dropped --> 2% drop\n",
      "\n",
      "('demo|full', 3)\n",
      "-------\n",
      "All: 32 completed / 3 dropped --> 8% drop\n"
     ]
    }
   ],
   "source": [
    "for condition, g in unique_dropout_df.groupby([\"condition\", \"concept\"]):\n",
    "    \n",
    "    print(\"\\n{}\\n-------\".format(condition))\n",
    "\n",
    "    # All players\n",
    "    n_complete = len(g[g.max_level_number == 10])\n",
    "    n_dropped = len(g[g.max_level_number != 10])\n",
    "    print(\"All: {} completed / {} dropped --> {}% drop\".format(n_complete, n_dropped, \n",
    "                                                                  int((n_dropped*100.0) / (n_complete + n_dropped))))"
   ]
  },
  {
   "cell_type": "markdown",
   "metadata": {},
   "source": [
    "## Filter data"
   ]
  },
  {
   "cell_type": "code",
   "execution_count": 17,
   "metadata": {},
   "outputs": [],
   "source": [
    "# Filter for completed (e.g. didn't dropout)\n",
    "df = df[df.task_uuid.isin(completed.learner_uuid)]\n",
    "\n",
    "# Filter for unique (e.g. neither player was paired more than once)\n",
    "df = df[~df.teacher_uuid.isin(duplicate_pairing_uuids)]\n",
    "df = df[~df.learner_uuid.isin(duplicate_pairing_uuids)]\n",
    "\n",
    "df[\"task_uuid\"] = df.task_uuid.astype(\"str\")\n",
    "df = df[df.game_mode != \"practice\"]\n",
    "df = df.sort_values(['visibility', \"communication\"], ascending=True)"
   ]
  },
  {
   "cell_type": "code",
   "execution_count": 18,
   "metadata": {},
   "outputs": [],
   "source": [
    "def add_derived_metrics(gameplay_dataframe):\n",
    "\n",
    "    gameplay_dataframe[\"pct_max_score\"] = gameplay_dataframe[\"player_score\"] / gameplay_dataframe[\"level_max_score\"] * 100\n",
    "\n",
    "    # Overall score\n",
    "    gameplay_dataframe = gameplay_dataframe.sort_values(by=['task_uuid', 'level_number'])\n",
    "    gameplay_dataframe[\"cum_player_score\"] = gameplay_dataframe.groupby([\"task_uuid\"])[\"player_score\"].cumsum()\n",
    "    \n",
    "    return gameplay_dataframe\n",
    "\n",
    "df = add_derived_metrics(df)"
   ]
  },
  {
   "cell_type": "code",
   "execution_count": 19,
   "metadata": {},
   "outputs": [],
   "source": [
    "ALL_POSSIBLE_OBJECTS = ['{}_{}_{}'.format(c, s, f) for c,s,f in itertools.product(\n",
    "    [\"pink\", \"blue\"], \n",
    "    [\"square\", \"triangle\"],\n",
    "    [\"hollow\", \"solid\"])]\n",
    "                        \n",
    "def display_object_to_color_string(obj):\n",
    "    \n",
    "    if obj[\"color\"] == \"0xff00ff\":\n",
    "        color = \"pink\"\n",
    "    else: \n",
    "        color = \"blue\"\n",
    "    \n",
    "    if \"hollow\" in obj[\"shape\"]:\n",
    "        fill = \"hollow\"\n",
    "    else: \n",
    "        fill = \"solid\"\n",
    "    \n",
    "    if \"Square\" in obj[\"shape\"]:\n",
    "        shape = \"square\"\n",
    "    else:\n",
    "        shape = \"triangle\"\n",
    "        \n",
    "    return \"{}_{}_{}\".format(color, shape, fill), obj[\"value\"]\n",
    "\n",
    "def game_record_to_color_mask(game_record):\n",
    "    \n",
    "    objects = [display_object_to_color_string(o) for o in game_record[\"concept_display\"]]\n",
    "    \n",
    "    return {k:v for k,v in objects}\n",
    "\n",
    "df[\"true_concept_values\"] = df.game.apply(lambda x: game_record_to_color_mask(x))"
   ]
  },
  {
   "cell_type": "code",
   "execution_count": 20,
   "metadata": {},
   "outputs": [],
   "source": [
    "def boolean_complexity(concept):\n",
    "    if concept == 1:\n",
    "        return 1\n",
    "    elif concept == 2:\n",
    "        return 4\n",
    "    elif concept == 6:\n",
    "        return 10\n",
    "    else:\n",
    "        return 6\n",
    "\n",
    "df[\"boolean_complexity\"] = df.concept_number.apply(lambda x: boolean_complexity(x))\n",
    "\n",
    "final_level = df[df.level_number == 10]"
   ]
  },
  {
   "cell_type": "code",
   "execution_count": 21,
   "metadata": {},
   "outputs": [
    {
     "data": {
      "text/plain": [
       "comm_viz   concept_number\n",
       "chat|full  1                 29\n",
       "           2                 35\n",
       "           3                 39\n",
       "demo|full  1                 36\n",
       "           2                 37\n",
       "           3                 32\n",
       "dtype: int64"
      ]
     },
     "execution_count": 21,
     "metadata": {},
     "output_type": "execute_result"
    }
   ],
   "source": [
    "final_level.groupby([\"comm_viz\", \"concept_number\"]).size()"
   ]
  },
  {
   "cell_type": "markdown",
   "metadata": {},
   "source": [
    "# Load End-of-Experiment Surveys"
   ]
  },
  {
   "cell_type": "code",
   "execution_count": 22,
   "metadata": {},
   "outputs": [],
   "source": [
    "question_df = pd.read_csv(open(PSITURK_SURVEY_RECORDS), names=['task_uuid', 'name', 'content'])\n",
    "\n",
    "numeric_questions_only = question_df[~question_df.name.isin(['partner_disconnected', 'partner_found', 'comments'])]\n",
    "\n",
    "numeric_questions_only = numeric_questions_only.dropna(subset=[\"content\"])\n",
    "numeric_questions_only[\"content\"] = numeric_questions_only.content.astype('int')"
   ]
  },
  {
   "cell_type": "code",
   "execution_count": 23,
   "metadata": {},
   "outputs": [
    {
     "data": {
      "text/html": [
       "<div>\n",
       "<style scoped>\n",
       "    .dataframe tbody tr th:only-of-type {\n",
       "        vertical-align: middle;\n",
       "    }\n",
       "\n",
       "    .dataframe tbody tr th {\n",
       "        vertical-align: top;\n",
       "    }\n",
       "\n",
       "    .dataframe thead th {\n",
       "        text-align: right;\n",
       "    }\n",
       "</style>\n",
       "<table border=\"1\" class=\"dataframe\">\n",
       "  <thead>\n",
       "    <tr style=\"text-align: right;\">\n",
       "      <th>name</th>\n",
       "      <th>blue_square_hollow</th>\n",
       "      <th>blue_square_solid</th>\n",
       "      <th>blue_triangle_hollow</th>\n",
       "      <th>blue_triangle_solid</th>\n",
       "      <th>cooperative</th>\n",
       "      <th>difficulty</th>\n",
       "      <th>fun</th>\n",
       "      <th>gameplay-lag</th>\n",
       "      <th>helpfulness</th>\n",
       "      <th>pink_square_hollow</th>\n",
       "      <th>pink_square_solid</th>\n",
       "      <th>pink_triangle_hollow</th>\n",
       "      <th>pink_triangle_solid</th>\n",
       "      <th>teacher-helpful</th>\n",
       "      <th>teacher-try-hard</th>\n",
       "    </tr>\n",
       "    <tr>\n",
       "      <th>task_uuid</th>\n",
       "      <th></th>\n",
       "      <th></th>\n",
       "      <th></th>\n",
       "      <th></th>\n",
       "      <th></th>\n",
       "      <th></th>\n",
       "      <th></th>\n",
       "      <th></th>\n",
       "      <th></th>\n",
       "      <th></th>\n",
       "      <th></th>\n",
       "      <th></th>\n",
       "      <th></th>\n",
       "      <th></th>\n",
       "      <th></th>\n",
       "    </tr>\n",
       "  </thead>\n",
       "  <tbody>\n",
       "    <tr>\n",
       "      <th>5665dd684ef50400057c68b6:610994da876d83f7380166b7</th>\n",
       "      <td>0.0</td>\n",
       "      <td>0.0</td>\n",
       "      <td>0.0</td>\n",
       "      <td>0.0</td>\n",
       "      <td>5.0</td>\n",
       "      <td>5.0</td>\n",
       "      <td>3.0</td>\n",
       "      <td>3.0</td>\n",
       "      <td>5.0</td>\n",
       "      <td>0.0</td>\n",
       "      <td>0.0</td>\n",
       "      <td>0.0</td>\n",
       "      <td>0.0</td>\n",
       "      <td>1.0</td>\n",
       "      <td>3.0</td>\n",
       "    </tr>\n",
       "    <tr>\n",
       "      <th>56b8fafebf489c000b7dce01:6109429b8f68bc118cce70ac</th>\n",
       "      <td>1.0</td>\n",
       "      <td>-1.0</td>\n",
       "      <td>1.0</td>\n",
       "      <td>-1.0</td>\n",
       "      <td>6.0</td>\n",
       "      <td>5.0</td>\n",
       "      <td>4.0</td>\n",
       "      <td>2.0</td>\n",
       "      <td>5.0</td>\n",
       "      <td>-1.0</td>\n",
       "      <td>1.0</td>\n",
       "      <td>-1.0</td>\n",
       "      <td>1.0</td>\n",
       "      <td>5.0</td>\n",
       "      <td>4.0</td>\n",
       "    </tr>\n",
       "    <tr>\n",
       "      <th>578ba1f56cc44500010448c0:6109424bce49b216639fce0f</th>\n",
       "      <td>1.0</td>\n",
       "      <td>1.0</td>\n",
       "      <td>1.0</td>\n",
       "      <td>1.0</td>\n",
       "      <td>4.0</td>\n",
       "      <td>4.0</td>\n",
       "      <td>4.0</td>\n",
       "      <td>2.0</td>\n",
       "      <td>4.0</td>\n",
       "      <td>-1.0</td>\n",
       "      <td>-1.0</td>\n",
       "      <td>-1.0</td>\n",
       "      <td>-1.0</td>\n",
       "      <td>NaN</td>\n",
       "      <td>NaN</td>\n",
       "    </tr>\n",
       "  </tbody>\n",
       "</table>\n",
       "</div>"
      ],
      "text/plain": [
       "name                                               blue_square_hollow  \\\n",
       "task_uuid                                                               \n",
       "5665dd684ef50400057c68b6:610994da876d83f7380166b7                 0.0   \n",
       "56b8fafebf489c000b7dce01:6109429b8f68bc118cce70ac                 1.0   \n",
       "578ba1f56cc44500010448c0:6109424bce49b216639fce0f                 1.0   \n",
       "\n",
       "name                                               blue_square_solid  \\\n",
       "task_uuid                                                              \n",
       "5665dd684ef50400057c68b6:610994da876d83f7380166b7                0.0   \n",
       "56b8fafebf489c000b7dce01:6109429b8f68bc118cce70ac               -1.0   \n",
       "578ba1f56cc44500010448c0:6109424bce49b216639fce0f                1.0   \n",
       "\n",
       "name                                               blue_triangle_hollow  \\\n",
       "task_uuid                                                                 \n",
       "5665dd684ef50400057c68b6:610994da876d83f7380166b7                   0.0   \n",
       "56b8fafebf489c000b7dce01:6109429b8f68bc118cce70ac                   1.0   \n",
       "578ba1f56cc44500010448c0:6109424bce49b216639fce0f                   1.0   \n",
       "\n",
       "name                                               blue_triangle_solid  \\\n",
       "task_uuid                                                                \n",
       "5665dd684ef50400057c68b6:610994da876d83f7380166b7                  0.0   \n",
       "56b8fafebf489c000b7dce01:6109429b8f68bc118cce70ac                 -1.0   \n",
       "578ba1f56cc44500010448c0:6109424bce49b216639fce0f                  1.0   \n",
       "\n",
       "name                                               cooperative  difficulty  \\\n",
       "task_uuid                                                                    \n",
       "5665dd684ef50400057c68b6:610994da876d83f7380166b7          5.0         5.0   \n",
       "56b8fafebf489c000b7dce01:6109429b8f68bc118cce70ac          6.0         5.0   \n",
       "578ba1f56cc44500010448c0:6109424bce49b216639fce0f          4.0         4.0   \n",
       "\n",
       "name                                               fun  gameplay-lag  \\\n",
       "task_uuid                                                              \n",
       "5665dd684ef50400057c68b6:610994da876d83f7380166b7  3.0           3.0   \n",
       "56b8fafebf489c000b7dce01:6109429b8f68bc118cce70ac  4.0           2.0   \n",
       "578ba1f56cc44500010448c0:6109424bce49b216639fce0f  4.0           2.0   \n",
       "\n",
       "name                                               helpfulness  \\\n",
       "task_uuid                                                        \n",
       "5665dd684ef50400057c68b6:610994da876d83f7380166b7          5.0   \n",
       "56b8fafebf489c000b7dce01:6109429b8f68bc118cce70ac          5.0   \n",
       "578ba1f56cc44500010448c0:6109424bce49b216639fce0f          4.0   \n",
       "\n",
       "name                                               pink_square_hollow  \\\n",
       "task_uuid                                                               \n",
       "5665dd684ef50400057c68b6:610994da876d83f7380166b7                 0.0   \n",
       "56b8fafebf489c000b7dce01:6109429b8f68bc118cce70ac                -1.0   \n",
       "578ba1f56cc44500010448c0:6109424bce49b216639fce0f                -1.0   \n",
       "\n",
       "name                                               pink_square_solid  \\\n",
       "task_uuid                                                              \n",
       "5665dd684ef50400057c68b6:610994da876d83f7380166b7                0.0   \n",
       "56b8fafebf489c000b7dce01:6109429b8f68bc118cce70ac                1.0   \n",
       "578ba1f56cc44500010448c0:6109424bce49b216639fce0f               -1.0   \n",
       "\n",
       "name                                               pink_triangle_hollow  \\\n",
       "task_uuid                                                                 \n",
       "5665dd684ef50400057c68b6:610994da876d83f7380166b7                   0.0   \n",
       "56b8fafebf489c000b7dce01:6109429b8f68bc118cce70ac                  -1.0   \n",
       "578ba1f56cc44500010448c0:6109424bce49b216639fce0f                  -1.0   \n",
       "\n",
       "name                                               pink_triangle_solid  \\\n",
       "task_uuid                                                                \n",
       "5665dd684ef50400057c68b6:610994da876d83f7380166b7                  0.0   \n",
       "56b8fafebf489c000b7dce01:6109429b8f68bc118cce70ac                  1.0   \n",
       "578ba1f56cc44500010448c0:6109424bce49b216639fce0f                 -1.0   \n",
       "\n",
       "name                                               teacher-helpful  \\\n",
       "task_uuid                                                            \n",
       "5665dd684ef50400057c68b6:610994da876d83f7380166b7              1.0   \n",
       "56b8fafebf489c000b7dce01:6109429b8f68bc118cce70ac              5.0   \n",
       "578ba1f56cc44500010448c0:6109424bce49b216639fce0f              NaN   \n",
       "\n",
       "name                                               teacher-try-hard  \n",
       "task_uuid                                                            \n",
       "5665dd684ef50400057c68b6:610994da876d83f7380166b7               3.0  \n",
       "56b8fafebf489c000b7dce01:6109429b8f68bc118cce70ac               4.0  \n",
       "578ba1f56cc44500010448c0:6109424bce49b216639fce0f               NaN  "
      ]
     },
     "execution_count": 23,
     "metadata": {},
     "output_type": "execute_result"
    }
   ],
   "source": [
    "survey_df = numeric_questions_only.pivot(index='task_uuid', columns='name', values='content')\n",
    "survey_df.head(3)"
   ]
  },
  {
   "cell_type": "code",
   "execution_count": 24,
   "metadata": {},
   "outputs": [],
   "source": [
    "survey_df = survey_df[survey_df.fun.notnull()]\n",
    "survey_df = survey_df[~survey_df.index.str.contains(\"debug\")]\n",
    "\n",
    "player_joined_survey = df.join(survey_df, on=\"task_uuid\", how=\"inner\", rsuffix=\"_player\")\n",
    "teacher_joined_survey = player_joined_survey.join(survey_df, on=\"teacher_uuid\", how=\"inner\", rsuffix=\"_teacher\")"
   ]
  },
  {
   "cell_type": "markdown",
   "metadata": {},
   "source": [
    "## Code correct / incorrect responses"
   ]
  },
  {
   "cell_type": "code",
   "execution_count": 25,
   "metadata": {},
   "outputs": [],
   "source": [
    "def frac_correct(survey_joined_row, suffix=\"\", unknown_negative=False, unknown_omitted=False):\n",
    "    \n",
    "    n_correct = 0\n",
    "    n_omitted = 0\n",
    "    true_values = survey_joined_row[\"true_concept_values\"]\n",
    "    \n",
    "    for obj, true_value in true_values.items():\n",
    "        if true_value == survey_joined_row[obj + suffix]:\n",
    "            n_correct += 1\n",
    "        \n",
    "        # Responded \"Don't Know\"\n",
    "        elif survey_joined_row[obj + suffix] == 0:\n",
    "        \n",
    "            # We want to consider \"Don't Know\" to be -1\n",
    "            if unknown_negative and (true_value == -1):\n",
    "                n_correct += 1\n",
    "            \n",
    "            elif unknown_omitted:\n",
    "                n_omitted += 1\n",
    "            \n",
    "    if n_omitted == len(true_values):\n",
    "        return None\n",
    "    \n",
    "    return n_correct / (len(true_values) - n_omitted)\n",
    "\n",
    "def positive_correct_shapes(survey_joined_row, suffix=\"\"):\n",
    "    \n",
    "    correct_shapes = []\n",
    "    true_values = survey_joined_row[\"true_concept_values\"]\n",
    "    for obj, true_value in true_values.items():\n",
    "        if (true_value == 1 == survey_joined_row[obj + suffix]):\n",
    "            correct_shapes.append(obj)\n",
    "    \n",
    "    return correct_shapes\n",
    "\n",
    "def positive_shapes(survey_joined_row, suffix=\"\"):\n",
    "    \n",
    "    positive_shapes = []\n",
    "    true_values = survey_joined_row[\"true_concept_values\"]\n",
    "    for obj, true_value in true_values.items():\n",
    "        if survey_joined_row[obj] == 1:\n",
    "            positive_shapes.append(obj)\n",
    "    \n",
    "    return positive_shapes\n",
    "\n",
    "def frac_zero(survey_joined_row, suffix=\"\"):\n",
    "    \n",
    "    keys = [o + suffix for o in ALL_POSSIBLE_OBJECTS]\n",
    "    responses = [survey_joined_row[k] for k in keys]\n",
    "    if any(np.isnan(r) for r in responses):\n",
    "        return None\n",
    "\n",
    "    n_zero = len([r for r in responses if r == 0])\n",
    "    return n_zero\n",
    "\n",
    "teacher_joined_survey[\"learner_concept\"] = teacher_joined_survey.apply(lambda x: frac_correct(x), axis=1)\n",
    "teacher_joined_survey[\"learner_concept_unknown_false\"] = teacher_joined_survey.apply(lambda x: frac_correct(x, unknown_negative=True), axis=1)\n",
    "teacher_joined_survey[\"learner_concept_unknown_omitted\"] = teacher_joined_survey.apply(lambda x: frac_correct(x, unknown_omitted=True), axis=1)\n",
    "\n",
    "teacher_joined_survey[\"pos_shapes_correct\"] = teacher_joined_survey.apply(lambda x: positive_correct_shapes(x), axis=1)\n",
    "teacher_joined_survey[\"n_correct_pos_shapes\"] = teacher_joined_survey.apply(lambda x: len(x[\"pos_shapes_correct\"]), axis=1)\n",
    "teacher_joined_survey[\"pos_shapes\"] = teacher_joined_survey.apply(lambda x: positive_shapes(x), axis=1)\n",
    "\n",
    "teacher_joined_survey[\"teacher_concept\"] = teacher_joined_survey.apply(lambda x: frac_correct(x, suffix='_teacher'), axis=1)"
   ]
  },
  {
   "cell_type": "markdown",
   "metadata": {},
   "source": [
    "## Code learner's inferred complexity"
   ]
  },
  {
   "cell_type": "code",
   "execution_count": 26,
   "metadata": {},
   "outputs": [],
   "source": [
    "# See: http://wexler.free.fr/library/files/feldman%20(0)%20simplicity%20and%20complexity%20in%20human%20concept%20learning.pdf\n",
    "\n",
    "# FOUR-UP (6 is default)\n",
    "COMPLEXITY_ONE_BOOLEANS = [(False, False, False), (False, False, True), (False,True, False), (False, True, True)]\n",
    "COMPLEXITY_TEN_BOOLEANS = [(False, False, False), (False, True, True), (True, False, True), (True, True, False)]\n",
    "COMPLEXITY_FOUR_BOOLEANS = [(False, False, False), (False, False, True), (True, True, False), (True, True, True)]\n",
    "\n",
    "# THREE-UP\n",
    "COMPLEXITY_THREE_BOOLEANS = [(False, False, False), (False, False, True), (False, True, False)]\n",
    "COMPLEXITY_FIVE_BOOLEANS = [(False, False, False), (False, False, True), (True, True, False)]\n",
    "COMPLEXITY_EIGHT_BOOLEANS = [(False, False, False), (False, True, True), (True, False, True)]\n",
    "\n",
    "# TWO-UP\n",
    "P2_COMPLEXITY_TWO_BOOLEANS = [(False, False, False), (False, False, True)]\n",
    "P2_COMPLEXITY_FIVE_BOOLEANS = [(False, False, False), (False, True, True)]\n",
    "P2_COMPLEXITY_SIX_BOOLEANS = [(False, False, False), (True, True, True)]\n",
    "\n",
    "all_bit_flips = list(set(itertools.chain.from_iterable(itertools.permutations(i) for i in itertools.combinations_with_replacement([True, False], 3))))\n",
    "\n",
    "def shape_to_binary(shape_string):\n",
    "    \n",
    "    splits = shape_string.split(\"_\")\n",
    "    return (splits[0] == \"blue\", splits[1] == \"square\", splits[2] == \"solid\")\n",
    "\n",
    "def flip_bits(item, bit_flip_mask):\n",
    "    \n",
    "    # Apply XOR mask\n",
    "    new_tuple = tuple(i != f for i, f in zip(item, bit_flip_mask))\n",
    "    \n",
    "    return new_tuple\n",
    "\n",
    "def boolean_complexity_positive_shapes(shape_strings):\n",
    "\n",
    "    if len(shape_strings) >= 5:\n",
    "        # Encoded with reverse polarity-- flip and measure complexity\n",
    "        # of negative concept instead\n",
    "        shape_strings = [s for s in ALL_POSSIBLE_OBJECTS if s not in shape_strings]\n",
    "    \n",
    "    if not shape_strings:\n",
    "        return 0\n",
    "    if len(shape_strings) == 1:\n",
    "        return 3\n",
    "    \n",
    "    binaries = [shape_to_binary(s) for s in shape_strings]\n",
    "    \n",
    "    if len(binaries) == 4:\n",
    "        if check_complexity_match(binaries, COMPLEXITY_ONE_BOOLEANS):\n",
    "            return 1\n",
    "        elif check_complexity_match(binaries, COMPLEXITY_FOUR_BOOLEANS):\n",
    "            return 4\n",
    "        elif check_complexity_match(binaries, COMPLEXITY_TEN_BOOLEANS):\n",
    "            return 10\n",
    "        else:\n",
    "            return 6\n",
    "        \n",
    "    elif len(binaries) == 3:\n",
    "        if check_complexity_match(binaries, COMPLEXITY_THREE_BOOLEANS):\n",
    "            return 3\n",
    "        elif check_complexity_match(binaries, COMPLEXITY_FIVE_BOOLEANS):\n",
    "            return 5\n",
    "        elif check_complexity_match(binaries, COMPLEXITY_EIGHT_BOOLEANS):\n",
    "            return 8\n",
    "        else:\n",
    "            print(\"ERROR: 3 boolean complexity not matched.\")\n",
    "            print(shape_strings)\n",
    "            return None\n",
    "        \n",
    "    elif len(binaries) == 2:\n",
    "        if check_complexity_match(binaries, P2_COMPLEXITY_TWO_BOOLEANS):\n",
    "            return 2\n",
    "        elif check_complexity_match(binaries, P2_COMPLEXITY_FIVE_BOOLEANS):\n",
    "            return 5\n",
    "        elif check_complexity_match(binaries, P2_COMPLEXITY_SIX_BOOLEANS):\n",
    "            return 6\n",
    "        else:\n",
    "            print(\"ERROR: 2 boolean complexity not matched.\")\n",
    "            return None\n",
    "    \n",
    "    else:\n",
    "        print(\"ERROR: boolean complexity not matched for {}.\".format(shape_strings))\n",
    "\n",
    "def check_complexity_match(binaries, boolean_dnf):\n",
    "    \n",
    "    if False:\n",
    "        print(\"Checking DNF: \\n\\t{}\".format(boolean_dnf))\n",
    "        \n",
    "    for a, b, c in list(itertools.permutations([0, 1, 2])):\n",
    "        permuted_binaries = [(binary[a], binary[b], binary[c]) for binary in binaries]\n",
    "        if False:\n",
    "            print(\"\\t{} (permuted)\".format(permuted_binaries))\n",
    "            print(\"\\t{} (dnf)\".format(boolean_dnf))\n",
    "\n",
    "        for bit_flip_mask in all_bit_flips:\n",
    "            flipped_binaries = [flip_bits(item, bit_flip_mask) for item in permuted_binaries]\n",
    "            matches = [item for item in flipped_binaries if item in boolean_dnf]\n",
    "        \n",
    "            if len(matches) == len(boolean_dnf):\n",
    "                return True\n",
    "        \n",
    "    return False"
   ]
  },
  {
   "cell_type": "code",
   "execution_count": 27,
   "metadata": {},
   "outputs": [],
   "source": [
    "teacher_joined_survey[\"learner_inferred_complexity\"] = teacher_joined_survey[\"pos_shapes\"].apply(boolean_complexity_positive_shapes)\n",
    "teacher_joined_survey[\"complexity_diff\"] = teacher_joined_survey.learner_inferred_complexity - teacher_joined_survey.boolean_complexity"
   ]
  },
  {
   "cell_type": "markdown",
   "metadata": {},
   "source": [
    "# Hash all worker ids to anonymize"
   ]
  },
  {
   "cell_type": "code",
   "execution_count": 28,
   "metadata": {},
   "outputs": [],
   "source": [
    "import hashlib\n",
    "import copy\n",
    "\n",
    "def hash_id(worker_id):\n",
    "    return 'W' + hashlib.md5(worker_id.encode()).hexdigest()[:10]\n",
    "\n",
    "def hash_game_ids(game):\n",
    "    \n",
    "    game = copy.deepcopy(game)\n",
    "    \n",
    "    game['psiturk_log_uuid'] = hash_id(game['psiturk_log_uuid'])\n",
    "    game['task_uuid'] = hash_id(game['task_uuid'])\n",
    "    \n",
    "    game['task_configuration']['pair_uuid'] = hash_id(game['task_configuration'].get('pair_uuid', ''))\n",
    "    game['value_mask_config']['pair_uuid'] = hash_id(game['value_mask_config'].get('pair_uuid', ''))\n",
    "\n",
    "    return game"
   ]
  },
  {
   "cell_type": "code",
   "execution_count": 29,
   "metadata": {},
   "outputs": [],
   "source": [
    "id_cols = ['task_uuid', 'psiturk_log_uuid', 'learner_uuid', 'teacher_uuid', 'pair_uuid', 'player_id']\n",
    "\n",
    "for col in id_cols:\n",
    "\n",
    "    teacher_joined_survey[col] = teacher_joined_survey[col].apply(lambda x: hash_id(x))\n",
    "\n",
    "teacher_joined_survey['game'] = teacher_joined_survey.game.apply(lambda x: hash_game_ids(x))"
   ]
  },
  {
   "cell_type": "markdown",
   "metadata": {},
   "source": [
    "## Tag \"bad\" teachers (Exp 2)"
   ]
  },
  {
   "cell_type": "code",
   "execution_count": 30,
   "metadata": {},
   "outputs": [],
   "source": [
    "# did not understand (\"red\"/\"green\", etc)\n",
    "did_not_understand_task_uuids = [\n",
    "    'W573bc9b725',\n",
    "    'W9939ac7190',\n",
    "    'Webf611b02c',\n",
    "    'W8f6a02ecdc',\n",
    "    'W17ebc17981',\n",
    "    'W6e90169edd',\n",
    "    'Wc9f04e302c']\n",
    "\n",
    "# encouragement, not teaching\n",
    "encouragement_uuids = [\n",
    "    'W3a7310a128',\n",
    "    'W5936230261',\n",
    "    'Wa97badeeaf',\n",
    "    'W51a6c7e59d',\n",
    "    'W0879209af6',\n",
    "    'W4c9e9106bd']\n",
    "\n",
    "# did not try\n",
    "low_effort_uuids = ['Waac52f1bb0', 'Wa10617c092', 'W73f8478e1f', 'Wef0150b77c']\n",
    "\n",
    "bad_teacher_uuids = did_not_understand_task_uuids + encouragement_uuids + low_effort_uuids"
   ]
  },
  {
   "cell_type": "code",
   "execution_count": 31,
   "metadata": {},
   "outputs": [],
   "source": [
    "teacher_joined_survey[\"did_not_understand\"] = teacher_joined_survey.task_uuid.apply(lambda x: x in did_not_understand_task_uuids)\n",
    "teacher_joined_survey[\"encouragement_only\"] = teacher_joined_survey.task_uuid.apply(lambda x: x in encouragement_uuids)\n",
    "teacher_joined_survey[\"low_effort\"] = teacher_joined_survey.task_uuid.apply(lambda x: x in low_effort_uuids)\n",
    "\n",
    "teacher_joined_survey[\"bad_teacher\"] = teacher_joined_survey.task_uuid.apply(lambda x: x in bad_teacher_uuids)"
   ]
  },
  {
   "cell_type": "code",
   "execution_count": 32,
   "metadata": {},
   "outputs": [
    {
     "data": {
      "text/plain": [
       "visibility  concept_number  bad_teacher\n",
       "full        1               False          29.0\n",
       "            2               False          35.0\n",
       "            3               False          38.0\n",
       "dtype: float64"
      ]
     },
     "execution_count": 32,
     "metadata": {},
     "output_type": "execute_result"
    }
   ],
   "source": [
    "linguistic = teacher_joined_survey[teacher_joined_survey.communication == \"chat\"]\n",
    "linguistic.groupby([\"visibility\", \"concept_number\", \"bad_teacher\"]).size() / 10"
   ]
  },
  {
   "cell_type": "markdown",
   "metadata": {},
   "source": [
    "# Export Cleaned Data to R "
   ]
  },
  {
   "cell_type": "code",
   "execution_count": 33,
   "metadata": {},
   "outputs": [],
   "source": [
    "export_to_r_cols = [\"task_uuid\", \"bad_teacher\",\n",
    "                    \"communication\", \"visibility\", \"boolean_complexity\", \"concept_number\", \"level_number\",\n",
    "                    \"learner_concept\", \"complexity_diff\", \"learner_inferred_complexity\", \"learner_concept_unknown_false\", \"learner_concept_unknown_omitted\",\n",
    "                    \"cum_player_score\", \"pct_max_score\"]"
   ]
  },
  {
   "cell_type": "code",
   "execution_count": 34,
   "metadata": {},
   "outputs": [
    {
     "data": {
      "text/html": [
       "<div>\n",
       "<style scoped>\n",
       "    .dataframe tbody tr th:only-of-type {\n",
       "        vertical-align: middle;\n",
       "    }\n",
       "\n",
       "    .dataframe tbody tr th {\n",
       "        vertical-align: top;\n",
       "    }\n",
       "\n",
       "    .dataframe thead th {\n",
       "        text-align: right;\n",
       "    }\n",
       "</style>\n",
       "<table border=\"1\" class=\"dataframe\">\n",
       "  <thead>\n",
       "    <tr style=\"text-align: right;\">\n",
       "      <th></th>\n",
       "      <th>task_uuid</th>\n",
       "      <th>bad_teacher</th>\n",
       "      <th>communication</th>\n",
       "      <th>visibility</th>\n",
       "      <th>boolean_complexity</th>\n",
       "      <th>concept_number</th>\n",
       "      <th>level_number</th>\n",
       "      <th>learner_concept</th>\n",
       "      <th>complexity_diff</th>\n",
       "      <th>learner_inferred_complexity</th>\n",
       "      <th>learner_concept_unknown_false</th>\n",
       "      <th>learner_concept_unknown_omitted</th>\n",
       "      <th>cum_player_score</th>\n",
       "      <th>pct_max_score</th>\n",
       "    </tr>\n",
       "  </thead>\n",
       "  <tbody>\n",
       "    <tr>\n",
       "      <th>300</th>\n",
       "      <td>W03d47093af</td>\n",
       "      <td>False</td>\n",
       "      <td>demo</td>\n",
       "      <td>full</td>\n",
       "      <td>1</td>\n",
       "      <td>1</td>\n",
       "      <td>1</td>\n",
       "      <td>1.0</td>\n",
       "      <td>0</td>\n",
       "      <td>1</td>\n",
       "      <td>1.0</td>\n",
       "      <td>1.0</td>\n",
       "      <td>1</td>\n",
       "      <td>25.0</td>\n",
       "    </tr>\n",
       "    <tr>\n",
       "      <th>301</th>\n",
       "      <td>W03d47093af</td>\n",
       "      <td>False</td>\n",
       "      <td>demo</td>\n",
       "      <td>full</td>\n",
       "      <td>1</td>\n",
       "      <td>1</td>\n",
       "      <td>2</td>\n",
       "      <td>1.0</td>\n",
       "      <td>0</td>\n",
       "      <td>1</td>\n",
       "      <td>1.0</td>\n",
       "      <td>1.0</td>\n",
       "      <td>3</td>\n",
       "      <td>40.0</td>\n",
       "    </tr>\n",
       "    <tr>\n",
       "      <th>302</th>\n",
       "      <td>W03d47093af</td>\n",
       "      <td>False</td>\n",
       "      <td>demo</td>\n",
       "      <td>full</td>\n",
       "      <td>1</td>\n",
       "      <td>1</td>\n",
       "      <td>3</td>\n",
       "      <td>1.0</td>\n",
       "      <td>0</td>\n",
       "      <td>1</td>\n",
       "      <td>1.0</td>\n",
       "      <td>1.0</td>\n",
       "      <td>4</td>\n",
       "      <td>25.0</td>\n",
       "    </tr>\n",
       "  </tbody>\n",
       "</table>\n",
       "</div>"
      ],
      "text/plain": [
       "       task_uuid  bad_teacher communication visibility  boolean_complexity  \\\n",
       "300  W03d47093af        False          demo       full                   1   \n",
       "301  W03d47093af        False          demo       full                   1   \n",
       "302  W03d47093af        False          demo       full                   1   \n",
       "\n",
       "     concept_number  level_number  learner_concept  complexity_diff  \\\n",
       "300               1             1              1.0                0   \n",
       "301               1             2              1.0                0   \n",
       "302               1             3              1.0                0   \n",
       "\n",
       "     learner_inferred_complexity  learner_concept_unknown_false  \\\n",
       "300                            1                            1.0   \n",
       "301                            1                            1.0   \n",
       "302                            1                            1.0   \n",
       "\n",
       "     learner_concept_unknown_omitted  cum_player_score  pct_max_score  \n",
       "300                              1.0                 1           25.0  \n",
       "301                              1.0                 3           40.0  \n",
       "302                              1.0                 4           25.0  "
      ]
     },
     "execution_count": 34,
     "metadata": {},
     "output_type": "execute_result"
    }
   ],
   "source": [
    "teacher_joined_survey[export_to_r_cols].head(3)"
   ]
  },
  {
   "cell_type": "code",
   "execution_count": 35,
   "metadata": {},
   "outputs": [],
   "source": [
    "teacher_joined_survey[export_to_r_cols].to_csv(\"data/{}_for_r.csv\".format(TARGET_EXPERIMENT))"
   ]
  },
  {
   "cell_type": "markdown",
   "metadata": {},
   "source": [
    "# Join in Linguistic Messages"
   ]
  },
  {
   "cell_type": "code",
   "execution_count": 36,
   "metadata": {},
   "outputs": [],
   "source": [
    "chats = [copy.deepcopy(c) for c in psiturk_records if c.get('data').get('name') == 'chat_message']\n",
    "for c in chats:\n",
    "    c['player_id'] = hash_id(c['player_id'])\n",
    "    c['data']['pair_uuid'] = hash_id(c['data']['pair_uuid'])\n",
    "    c['data']['task_uuid'] = hash_id(c['data']['task_uuid'])"
   ]
  },
  {
   "cell_type": "code",
   "execution_count": 37,
   "metadata": {},
   "outputs": [],
   "source": [
    "chats.sort(key = lambda k: k[\"player_id\"])\n",
    "\n",
    "chat_dicts = []\n",
    "for m in chats:\n",
    "    m[\"data\"][\"task_uuid\"] = m[\"player_id\"]\n",
    "    chat_dicts.append(m[\"data\"])\n",
    "\n",
    "chat_df = pd.DataFrame.from_dict(chat_dicts)\n",
    "chat_df = chat_df[chat_df.level_number != 0]\n",
    "\n",
    "chats = []\n",
    "for k, g in chat_df.groupby([\"task_uuid\", \"level_number\"]):\n",
    "    chats.append({\"task_uuid\": k[0], \"level_number\": k[1], \"chat_text\": g.chat.str.cat(sep=\"|\")})\n",
    "\n",
    "chat_teaching_df = pd.DataFrame(chats)\n",
    "chat_teaching_df[\"num_chars\"] = chat_teaching_df.chat_text.str.len()\n",
    "\n",
    "chat_indexed_df = chat_teaching_df.set_index([\"task_uuid\", \"level_number\"])\n",
    "\n",
    "teacher_joined_survey = teacher_joined_survey.join(chat_indexed_df, on=[\"task_uuid\", \"level_number\"], how=\"left\")\n",
    "\n",
    "def include_empty_chats(row):\n",
    "    if row[\"communication\"] == \"chat\":\n",
    "        if np.isnan(row[\"num_chars\"]):\n",
    "            return 0\n",
    "    return row[\"num_chars\"]\n",
    "\n",
    "teacher_joined_survey[\"num_chars\"] = teacher_joined_survey.apply(lambda row: include_empty_chats(row), axis=1)\n",
    "teacher_joined_survey = teacher_joined_survey.sort_values(by=['task_uuid', 'level_number'])\n",
    "teacher_joined_survey[\"cum_teacher_chat\"] = teacher_joined_survey.groupby([\"task_uuid\"]).num_chars.cumsum()"
   ]
  },
  {
   "cell_type": "markdown",
   "metadata": {},
   "source": [
    "# Export demonstration games"
   ]
  },
  {
   "cell_type": "code",
   "execution_count": 38,
   "metadata": {},
   "outputs": [],
   "source": [
    "if TARGET_EXPERIMENT == \"exp2\":\n",
    "\n",
    "    completed_teachers = final_level.teacher_uuid\n",
    "    demos_to_analyze = copy.deepcopy(demonstrations[demonstrations.task_uuid.isin(completed_teachers)])\n",
    "    \n",
    "    id_cols = ['task_uuid', 'psiturk_log_uuid']#, 'pair_uuid', 'player_id']\n",
    "\n",
    "    for col in id_cols:\n",
    "\n",
    "        demos_to_analyze[col] = demos_to_analyze[col].apply(lambda x: hash_id(x))\n",
    "\n",
    "    demos_to_analyze['game'] = demos_to_analyze.game.apply(lambda x: hash_game_ids(x))"
   ]
  },
  {
   "cell_type": "code",
   "execution_count": 39,
   "metadata": {},
   "outputs": [],
   "source": [
    "if TARGET_EXPERIMENT == \"exp2\":\n",
    "\n",
    "    demos_to_analyze[\"visibility\"] = demos_to_analyze.apply(lambda x: x[\"game\"][\"task_configuration\"][\"visibility\"], axis=1)\n",
    "    demos_to_analyze[\"boolean_complexity\"] = demos_to_analyze.apply(lambda x: x[\"game\"][\"task_configuration\"][\"concept_complexity\"], axis=1)\n",
    "    demos_to_analyze[\"normalized_score\"] = demos_to_analyze.player_score / demos_to_analyze.level_max_score\n",
    "    demos_to_analyze[\"n_optimal_demonstrations\"] = demos_to_analyze.normalized_score == 1\n",
    "\n",
    "    optimal_counts = demos_to_analyze.groupby([\"visibility\", \"boolean_complexity\", \"task_uuid\"]).n_optimal_demonstrations.sum().reset_index()\n",
    "\n",
    "    export_to_r_cols = [\"task_uuid\", \n",
    "                        \"visibility\", \"boolean_complexity\", \n",
    "                        \"n_optimal_demonstrations\"]\n",
    "\n",
    "    optimal_counts[export_to_r_cols].to_csv(\"data/{}_demonstrations_for_r.csv\".format(TARGET_EXPERIMENT))"
   ]
  },
  {
   "cell_type": "code",
   "execution_count": 40,
   "metadata": {},
   "outputs": [],
   "source": [
    "if TARGET_EXPERIMENT == \"exp2\":\n",
    "    \n",
    "    demos_to_analyze['game'] = demos_to_analyze.game.apply(lambda x: json.dumps(x))\n",
    "    demos_to_analyze.to_csv(\"data/{}_demonstrations.csv\".format(TARGET_EXPERIMENT))"
   ]
  },
  {
   "cell_type": "markdown",
   "metadata": {},
   "source": [
    "# Export processed games"
   ]
  },
  {
   "cell_type": "code",
   "execution_count": 41,
   "metadata": {},
   "outputs": [],
   "source": [
    "teacher_joined_survey['game'] = teacher_joined_survey.game.apply(lambda x: json.dumps(x))\n",
    "teacher_joined_survey.to_csv(\"data/{}_anonymized.csv\".format(TARGET_EXPERIMENT))"
   ]
  },
  {
   "cell_type": "code",
   "execution_count": 42,
   "metadata": {},
   "outputs": [
    {
     "data": {
      "text/plain": [
       "'the one in the very far left corner (pink triangle outline) was negative'"
      ]
     },
     "execution_count": 42,
     "metadata": {},
     "output_type": "execute_result"
    }
   ],
   "source": [
    "teacher_joined_survey.iloc[0].chat_text"
   ]
  },
  {
   "cell_type": "code",
   "execution_count": null,
   "metadata": {},
   "outputs": [],
   "source": []
  }
 ],
 "metadata": {
  "kernelspec": {
   "display_name": "Python 3 (ipykernel)",
   "language": "python",
   "name": "python3"
  },
  "language_info": {
   "codemirror_mode": {
    "name": "ipython",
    "version": 3
   },
   "file_extension": ".py",
   "mimetype": "text/x-python",
   "name": "python",
   "nbconvert_exporter": "python",
   "pygments_lexer": "ipython3",
   "version": "3.9.12"
  }
 },
 "nbformat": 4,
 "nbformat_minor": 4
}
